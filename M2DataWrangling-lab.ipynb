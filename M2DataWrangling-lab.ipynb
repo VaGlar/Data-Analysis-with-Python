{
 "cells": [
  {
   "cell_type": "markdown",
   "metadata": {},
   "source": [
    "<p style=\"text-align:center\">\n",
    "    <a href=\"https://skills.network/?utm_medium=Exinfluencer&utm_source=Exinfluencer&utm_content=000026UJ&utm_term=10006555&utm_id=NA-SkillsNetwork-Channel-SkillsNetworkCoursesIBMDA0321ENSkillsNetwork928-2022-01-01\" target=\"_blank\">\n",
    "    <img src=\"https://cf-courses-data.s3.us.cloud-object-storage.appdomain.cloud/assets/logos/SN_web_lightmode.png\" width=\"200\" alt=\"Skills Network Logo\"  />\n",
    "    </a>\n",
    "</p>\n"
   ]
  },
  {
   "cell_type": "markdown",
   "metadata": {},
   "source": [
    "# **Data Wrangling Lab**\n"
   ]
  },
  {
   "cell_type": "markdown",
   "metadata": {},
   "source": [
    "Estimated time needed: **45 to 60** minutes\n"
   ]
  },
  {
   "cell_type": "markdown",
   "metadata": {},
   "source": [
    "In this assignment you will be performing data wrangling.\n"
   ]
  },
  {
   "cell_type": "markdown",
   "metadata": {},
   "source": [
    "## Objectives\n"
   ]
  },
  {
   "cell_type": "markdown",
   "metadata": {},
   "source": [
    "In this lab you will perform the following:\n"
   ]
  },
  {
   "cell_type": "markdown",
   "metadata": {},
   "source": [
    "-   Identify duplicate values in the dataset.\n",
    "\n",
    "-   Remove duplicate values from the dataset.\n",
    "\n",
    "-   Identify missing values in the dataset.\n",
    "\n",
    "-   Impute the missing values in the dataset.\n",
    "\n",
    "-   Normalize data in the dataset.\n"
   ]
  },
  {
   "cell_type": "markdown",
   "metadata": {},
   "source": [
    "<hr>\n"
   ]
  },
  {
   "cell_type": "markdown",
   "metadata": {},
   "source": [
    "## Hands on Lab\n"
   ]
  },
  {
   "cell_type": "markdown",
   "metadata": {},
   "source": [
    "Import pandas module.\n"
   ]
  },
  {
   "cell_type": "code",
   "execution_count": 82,
   "metadata": {
    "tags": []
   },
   "outputs": [],
   "source": [
    "import pandas as pd"
   ]
  },
  {
   "cell_type": "markdown",
   "metadata": {},
   "source": [
    "Load the dataset into a dataframe.\n"
   ]
  },
  {
   "cell_type": "code",
   "execution_count": 83,
   "metadata": {
    "tags": []
   },
   "outputs": [],
   "source": [
    "df = pd.read_csv(\"https://cf-courses-data.s3.us.cloud-object-storage.appdomain.cloud/IBM-DA0321EN-SkillsNetwork/LargeData/m1_survey_data.csv\")"
   ]
  },
  {
   "cell_type": "markdown",
   "metadata": {},
   "source": [
    "## Finding duplicates\n"
   ]
  },
  {
   "cell_type": "markdown",
   "metadata": {},
   "source": [
    "In this section you will identify duplicate values in the dataset.\n"
   ]
  },
  {
   "cell_type": "markdown",
   "metadata": {},
   "source": [
    " Find how many duplicate rows exist in the dataframe.\n"
   ]
  },
  {
   "cell_type": "code",
   "execution_count": 84,
   "metadata": {
    "tags": []
   },
   "outputs": [
    {
     "name": "stdout",
     "output_type": "stream",
     "text": [
      "Duplicate rows:\n",
      "      Respondent                                         MainBranch Hobbyist  \\\n",
      "1168        2339                     I am a developer by profession      Yes   \n",
      "1169        2342                     I am a developer by profession      Yes   \n",
      "1170        2343                     I am a developer by profession      Yes   \n",
      "1171        2344                     I am a developer by profession      Yes   \n",
      "1172        2347                     I am a developer by profession      Yes   \n",
      "...          ...                                                ...      ...   \n",
      "2297        4674  I am not primarily a developer, but I write co...      Yes   \n",
      "2298        4675                     I am a developer by profession      Yes   \n",
      "2299        4676                     I am a developer by profession      Yes   \n",
      "2300        4677                     I am a developer by profession      Yes   \n",
      "2301        4679                     I am a developer by profession      Yes   \n",
      "\n",
      "                                            OpenSourcer  \\\n",
      "1168                         Once a month or more often   \n",
      "1169                                              Never   \n",
      "1170  Less than once a month but more than once per ...   \n",
      "1171                                              Never   \n",
      "1172                                              Never   \n",
      "...                                                 ...   \n",
      "2297                            Less than once per year   \n",
      "2298                                              Never   \n",
      "2299                                              Never   \n",
      "2300                         Once a month or more often   \n",
      "2301  Less than once a month but more than once per ...   \n",
      "\n",
      "                                             OpenSource          Employment  \\\n",
      "1168  OSS is, on average, of HIGHER quality than pro...  Employed full-time   \n",
      "1169  The quality of OSS and closed source software ...  Employed full-time   \n",
      "1170  OSS is, on average, of LOWER quality than prop...  Employed full-time   \n",
      "1171  The quality of OSS and closed source software ...  Employed full-time   \n",
      "1172  OSS is, on average, of HIGHER quality than pro...  Employed full-time   \n",
      "...                                                 ...                 ...   \n",
      "2297  The quality of OSS and closed source software ...  Employed full-time   \n",
      "2298  OSS is, on average, of HIGHER quality than pro...  Employed full-time   \n",
      "2299  OSS is, on average, of HIGHER quality than pro...  Employed full-time   \n",
      "2300  OSS is, on average, of HIGHER quality than pro...  Employed full-time   \n",
      "2301  The quality of OSS and closed source software ...  Employed full-time   \n",
      "\n",
      "             Country Student  \\\n",
      "1168   United States      No   \n",
      "1169  United Kingdom      No   \n",
      "1170          Canada      No   \n",
      "1171   United States      No   \n",
      "1172  United Kingdom      No   \n",
      "...              ...     ...   \n",
      "2297      Bangladesh      No   \n",
      "2298   United States      No   \n",
      "2299         Finland      No   \n",
      "2300  United Kingdom      No   \n",
      "2301   United States      No   \n",
      "\n",
      "                                                EdLevel  \\\n",
      "1168  Some college/university study without earning ...   \n",
      "1169  Some college/university study without earning ...   \n",
      "1170        Master’s degree (MA, MS, M.Eng., MBA, etc.)   \n",
      "1171           Bachelor’s degree (BA, BS, B.Eng., etc.)   \n",
      "1172        Master’s degree (MA, MS, M.Eng., MBA, etc.)   \n",
      "...                                                 ...   \n",
      "2297           Bachelor’s degree (BA, BS, B.Eng., etc.)   \n",
      "2298           Bachelor’s degree (BA, BS, B.Eng., etc.)   \n",
      "2299        Master’s degree (MA, MS, M.Eng., MBA, etc.)   \n",
      "2300           Bachelor’s degree (BA, BS, B.Eng., etc.)   \n",
      "2301        Master’s degree (MA, MS, M.Eng., MBA, etc.)   \n",
      "\n",
      "                                         UndergradMajor  ...  \\\n",
      "1168  Computer science, computer engineering, or sof...  ...   \n",
      "1169  Information systems, information technology, o...  ...   \n",
      "1170  Computer science, computer engineering, or sof...  ...   \n",
      "1171  Computer science, computer engineering, or sof...  ...   \n",
      "1172  Computer science, computer engineering, or sof...  ...   \n",
      "...                                                 ...  ...   \n",
      "2297                                                NaN  ...   \n",
      "2298  Information systems, information technology, o...  ...   \n",
      "2299  Another engineering discipline (ex. civil, ele...  ...   \n",
      "2300  A natural science (ex. biology, chemistry, phy...  ...   \n",
      "2301  Computer science, computer engineering, or sof...  ...   \n",
      "\n",
      "                                 WelcomeChange  \\\n",
      "1168   Just as welcome now as I felt last year   \n",
      "1169  Somewhat more welcome now than last year   \n",
      "1170  Somewhat more welcome now than last year   \n",
      "1171   Just as welcome now as I felt last year   \n",
      "1172   Just as welcome now as I felt last year   \n",
      "...                                        ...   \n",
      "2297  Somewhat less welcome now than last year   \n",
      "2298   Just as welcome now as I felt last year   \n",
      "2299  Somewhat less welcome now than last year   \n",
      "2300   Just as welcome now as I felt last year   \n",
      "2301   Just as welcome now as I felt last year   \n",
      "\n",
      "                                           SONewContent   Age Gender Trans  \\\n",
      "1168                                                NaN  24.0    Man    No   \n",
      "1169  Tech meetups or events in your area;Courses on...  24.0    Man    No   \n",
      "1170  Tech articles written by other developers;Indu...  27.0    Man    No   \n",
      "1171  Tech articles written by other developers;Indu...  24.0    Man    No   \n",
      "1172                                                NaN   NaN  Woman    No   \n",
      "...                                                 ...   ...    ...   ...   \n",
      "2297  Tech articles written by other developers;Indu...  31.0    Man    No   \n",
      "2298                Tech meetups or events in your area  27.0    Man    No   \n",
      "2299                                                NaN  36.0    Man    No   \n",
      "2300                                                NaN  40.0    Man    No   \n",
      "2301                                                NaN  27.0    Man    No   \n",
      "\n",
      "                                            Sexuality  \\\n",
      "1168                          Straight / Heterosexual   \n",
      "1169                          Straight / Heterosexual   \n",
      "1170                          Straight / Heterosexual   \n",
      "1171                          Straight / Heterosexual   \n",
      "1172                          Straight / Heterosexual   \n",
      "...                                               ...   \n",
      "2297  Bisexual;Gay or Lesbian;Straight / Heterosexual   \n",
      "2298                          Straight / Heterosexual   \n",
      "2299                          Straight / Heterosexual   \n",
      "2300                          Straight / Heterosexual   \n",
      "2301                                              NaN   \n",
      "\n",
      "                                              Ethnicity Dependents  \\\n",
      "1168                       White or of European descent         No   \n",
      "1169                       White or of European descent         No   \n",
      "1170  Black or of African descent;White or of Europe...         No   \n",
      "1171                       White or of European descent         No   \n",
      "1172                                           Biracial         No   \n",
      "...                                                 ...        ...   \n",
      "2297  Black or of African descent;Hispanic or Latino...        Yes   \n",
      "2298                       White or of European descent         No   \n",
      "2299                       White or of European descent        Yes   \n",
      "2300                       White or of European descent        Yes   \n",
      "2301                       White or of European descent         No   \n",
      "\n",
      "               SurveyLength                  SurveyEase  \n",
      "1168  Appropriate in length                        Easy  \n",
      "1169               Too long                        Easy  \n",
      "1170  Appropriate in length  Neither easy nor difficult  \n",
      "1171  Appropriate in length                        Easy  \n",
      "1172               Too long                        Easy  \n",
      "...                     ...                         ...  \n",
      "2297               Too long  Neither easy nor difficult  \n",
      "2298  Appropriate in length                        Easy  \n",
      "2299               Too long                        Easy  \n",
      "2300  Appropriate in length                        Easy  \n",
      "2301  Appropriate in length                        Easy  \n",
      "\n",
      "[154 rows x 85 columns]\n"
     ]
    }
   ],
   "source": [
    "duplicates = df[df.duplicated()]\n",
    "print(\"Duplicate rows:\")\n",
    "print(duplicates)"
   ]
  },
  {
   "cell_type": "markdown",
   "metadata": {},
   "source": [
    "## Removing duplicates\n"
   ]
  },
  {
   "cell_type": "markdown",
   "metadata": {},
   "source": [
    "Remove the duplicate rows from the dataframe.\n"
   ]
  },
  {
   "cell_type": "code",
   "execution_count": 85,
   "metadata": {
    "tags": []
   },
   "outputs": [
    {
     "name": "stdout",
     "output_type": "stream",
     "text": [
      "Duplicate rows:\n",
      "      Respondent                                         MainBranch Hobbyist  \\\n",
      "1168        2339                     I am a developer by profession      Yes   \n",
      "1169        2342                     I am a developer by profession      Yes   \n",
      "1170        2343                     I am a developer by profession      Yes   \n",
      "1171        2344                     I am a developer by profession      Yes   \n",
      "1172        2347                     I am a developer by profession      Yes   \n",
      "...          ...                                                ...      ...   \n",
      "2297        4674  I am not primarily a developer, but I write co...      Yes   \n",
      "2298        4675                     I am a developer by profession      Yes   \n",
      "2299        4676                     I am a developer by profession      Yes   \n",
      "2300        4677                     I am a developer by profession      Yes   \n",
      "2301        4679                     I am a developer by profession      Yes   \n",
      "\n",
      "                                            OpenSourcer  \\\n",
      "1168                         Once a month or more often   \n",
      "1169                                              Never   \n",
      "1170  Less than once a month but more than once per ...   \n",
      "1171                                              Never   \n",
      "1172                                              Never   \n",
      "...                                                 ...   \n",
      "2297                            Less than once per year   \n",
      "2298                                              Never   \n",
      "2299                                              Never   \n",
      "2300                         Once a month or more often   \n",
      "2301  Less than once a month but more than once per ...   \n",
      "\n",
      "                                             OpenSource          Employment  \\\n",
      "1168  OSS is, on average, of HIGHER quality than pro...  Employed full-time   \n",
      "1169  The quality of OSS and closed source software ...  Employed full-time   \n",
      "1170  OSS is, on average, of LOWER quality than prop...  Employed full-time   \n",
      "1171  The quality of OSS and closed source software ...  Employed full-time   \n",
      "1172  OSS is, on average, of HIGHER quality than pro...  Employed full-time   \n",
      "...                                                 ...                 ...   \n",
      "2297  The quality of OSS and closed source software ...  Employed full-time   \n",
      "2298  OSS is, on average, of HIGHER quality than pro...  Employed full-time   \n",
      "2299  OSS is, on average, of HIGHER quality than pro...  Employed full-time   \n",
      "2300  OSS is, on average, of HIGHER quality than pro...  Employed full-time   \n",
      "2301  The quality of OSS and closed source software ...  Employed full-time   \n",
      "\n",
      "             Country Student  \\\n",
      "1168   United States      No   \n",
      "1169  United Kingdom      No   \n",
      "1170          Canada      No   \n",
      "1171   United States      No   \n",
      "1172  United Kingdom      No   \n",
      "...              ...     ...   \n",
      "2297      Bangladesh      No   \n",
      "2298   United States      No   \n",
      "2299         Finland      No   \n",
      "2300  United Kingdom      No   \n",
      "2301   United States      No   \n",
      "\n",
      "                                                EdLevel  \\\n",
      "1168  Some college/university study without earning ...   \n",
      "1169  Some college/university study without earning ...   \n",
      "1170        Master’s degree (MA, MS, M.Eng., MBA, etc.)   \n",
      "1171           Bachelor’s degree (BA, BS, B.Eng., etc.)   \n",
      "1172        Master’s degree (MA, MS, M.Eng., MBA, etc.)   \n",
      "...                                                 ...   \n",
      "2297           Bachelor’s degree (BA, BS, B.Eng., etc.)   \n",
      "2298           Bachelor’s degree (BA, BS, B.Eng., etc.)   \n",
      "2299        Master’s degree (MA, MS, M.Eng., MBA, etc.)   \n",
      "2300           Bachelor’s degree (BA, BS, B.Eng., etc.)   \n",
      "2301        Master’s degree (MA, MS, M.Eng., MBA, etc.)   \n",
      "\n",
      "                                         UndergradMajor  ...  \\\n",
      "1168  Computer science, computer engineering, or sof...  ...   \n",
      "1169  Information systems, information technology, o...  ...   \n",
      "1170  Computer science, computer engineering, or sof...  ...   \n",
      "1171  Computer science, computer engineering, or sof...  ...   \n",
      "1172  Computer science, computer engineering, or sof...  ...   \n",
      "...                                                 ...  ...   \n",
      "2297                                                NaN  ...   \n",
      "2298  Information systems, information technology, o...  ...   \n",
      "2299  Another engineering discipline (ex. civil, ele...  ...   \n",
      "2300  A natural science (ex. biology, chemistry, phy...  ...   \n",
      "2301  Computer science, computer engineering, or sof...  ...   \n",
      "\n",
      "                                 WelcomeChange  \\\n",
      "1168   Just as welcome now as I felt last year   \n",
      "1169  Somewhat more welcome now than last year   \n",
      "1170  Somewhat more welcome now than last year   \n",
      "1171   Just as welcome now as I felt last year   \n",
      "1172   Just as welcome now as I felt last year   \n",
      "...                                        ...   \n",
      "2297  Somewhat less welcome now than last year   \n",
      "2298   Just as welcome now as I felt last year   \n",
      "2299  Somewhat less welcome now than last year   \n",
      "2300   Just as welcome now as I felt last year   \n",
      "2301   Just as welcome now as I felt last year   \n",
      "\n",
      "                                           SONewContent   Age Gender Trans  \\\n",
      "1168                                                NaN  24.0    Man    No   \n",
      "1169  Tech meetups or events in your area;Courses on...  24.0    Man    No   \n",
      "1170  Tech articles written by other developers;Indu...  27.0    Man    No   \n",
      "1171  Tech articles written by other developers;Indu...  24.0    Man    No   \n",
      "1172                                                NaN   NaN  Woman    No   \n",
      "...                                                 ...   ...    ...   ...   \n",
      "2297  Tech articles written by other developers;Indu...  31.0    Man    No   \n",
      "2298                Tech meetups or events in your area  27.0    Man    No   \n",
      "2299                                                NaN  36.0    Man    No   \n",
      "2300                                                NaN  40.0    Man    No   \n",
      "2301                                                NaN  27.0    Man    No   \n",
      "\n",
      "                                            Sexuality  \\\n",
      "1168                          Straight / Heterosexual   \n",
      "1169                          Straight / Heterosexual   \n",
      "1170                          Straight / Heterosexual   \n",
      "1171                          Straight / Heterosexual   \n",
      "1172                          Straight / Heterosexual   \n",
      "...                                               ...   \n",
      "2297  Bisexual;Gay or Lesbian;Straight / Heterosexual   \n",
      "2298                          Straight / Heterosexual   \n",
      "2299                          Straight / Heterosexual   \n",
      "2300                          Straight / Heterosexual   \n",
      "2301                                              NaN   \n",
      "\n",
      "                                              Ethnicity Dependents  \\\n",
      "1168                       White or of European descent         No   \n",
      "1169                       White or of European descent         No   \n",
      "1170  Black or of African descent;White or of Europe...         No   \n",
      "1171                       White or of European descent         No   \n",
      "1172                                           Biracial         No   \n",
      "...                                                 ...        ...   \n",
      "2297  Black or of African descent;Hispanic or Latino...        Yes   \n",
      "2298                       White or of European descent         No   \n",
      "2299                       White or of European descent        Yes   \n",
      "2300                       White or of European descent        Yes   \n",
      "2301                       White or of European descent         No   \n",
      "\n",
      "               SurveyLength                  SurveyEase  \n",
      "1168  Appropriate in length                        Easy  \n",
      "1169               Too long                        Easy  \n",
      "1170  Appropriate in length  Neither easy nor difficult  \n",
      "1171  Appropriate in length                        Easy  \n",
      "1172               Too long                        Easy  \n",
      "...                     ...                         ...  \n",
      "2297               Too long  Neither easy nor difficult  \n",
      "2298  Appropriate in length                        Easy  \n",
      "2299               Too long                        Easy  \n",
      "2300  Appropriate in length                        Easy  \n",
      "2301  Appropriate in length                        Easy  \n",
      "\n",
      "[154 rows x 85 columns]\n"
     ]
    }
   ],
   "source": [
    "duplicates = df[df.duplicated()]\n",
    "print(\"Duplicate rows:\")\n",
    "print(duplicates)"
   ]
  },
  {
   "cell_type": "markdown",
   "metadata": {},
   "source": [
    "Verify if duplicates were actually dropped.\n"
   ]
  },
  {
   "cell_type": "code",
   "execution_count": 86,
   "metadata": {
    "tags": []
   },
   "outputs": [
    {
     "name": "stdout",
     "output_type": "stream",
     "text": [
      "Shape of the dataframe after removing duplicates: (11398, 85)\n"
     ]
    }
   ],
   "source": [
    "df = df.drop_duplicates()\n",
    "print(f\"Shape of the dataframe after removing duplicates: {df_no_duplicates.shape}\")\n",
    "\n"
   ]
  },
  {
   "cell_type": "markdown",
   "metadata": {},
   "source": [
    "## Finding Missing values\n"
   ]
  },
  {
   "cell_type": "markdown",
   "metadata": {},
   "source": [
    "Find the missing values for all columns.\n"
   ]
  },
  {
   "cell_type": "code",
   "execution_count": 87,
   "metadata": {
    "tags": []
   },
   "outputs": [
    {
     "name": "stdout",
     "output_type": "stream",
     "text": [
      "Missing values:\n",
      "OpenSource         81\n",
      "Student            51\n",
      "EdLevel           112\n",
      "UndergradMajor    737\n",
      "EduOther          164\n",
      "                 ... \n",
      "Sexuality         542\n",
      "Ethnicity         675\n",
      "Dependents        140\n",
      "SurveyLength       19\n",
      "SurveyEase         14\n",
      "Length: 73, dtype: int64\n"
     ]
    }
   ],
   "source": [
    "missing_values = df.isnull().sum()\n",
    "print(\"Missing values:\")\n",
    "print(missing_values[missing_values > 0])\n"
   ]
  },
  {
   "cell_type": "markdown",
   "metadata": {},
   "source": [
    "Find out how many rows are missing in the column 'WorkLoc'\n"
   ]
  },
  {
   "cell_type": "code",
   "execution_count": 55,
   "metadata": {
    "tags": []
   },
   "outputs": [
    {
     "data": {
      "text/plain": [
       "32"
      ]
     },
     "execution_count": 55,
     "metadata": {},
     "output_type": "execute_result"
    }
   ],
   "source": [
    "missing_values['WorkLoc']"
   ]
  },
  {
   "cell_type": "markdown",
   "metadata": {},
   "source": [
    "## Imputing missing values\n"
   ]
  },
  {
   "cell_type": "markdown",
   "metadata": {},
   "source": [
    "Find the  value counts for the column WorkLoc.\n"
   ]
  },
  {
   "cell_type": "code",
   "execution_count": 56,
   "metadata": {
    "tags": []
   },
   "outputs": [
    {
     "data": {
      "text/plain": [
       "Office                                            6806\n",
       "Home                                              3589\n",
       "Other place, such as a coworking space or cafe     971\n",
       "Name: WorkLoc, dtype: int64"
      ]
     },
     "execution_count": 56,
     "metadata": {},
     "output_type": "execute_result"
    }
   ],
   "source": [
    "df['WorkLoc'].value_counts()"
   ]
  },
  {
   "cell_type": "markdown",
   "metadata": {},
   "source": [
    "Identify the value that is most frequent (majority) in the WorkLoc column.\n"
   ]
  },
  {
   "cell_type": "code",
   "execution_count": 57,
   "metadata": {
    "tags": []
   },
   "outputs": [
    {
     "data": {
      "text/plain": [
       "'Office'"
      ]
     },
     "execution_count": 57,
     "metadata": {},
     "output_type": "execute_result"
    }
   ],
   "source": [
    "df['WorkLoc'].value_counts().idxmax()"
   ]
  },
  {
   "cell_type": "markdown",
   "metadata": {},
   "source": [
    "Impute (replace) all the empty rows in the column WorkLoc with the value that you have identified as majority.\n"
   ]
  },
  {
   "cell_type": "code",
   "execution_count": 58,
   "metadata": {},
   "outputs": [],
   "source": [
    "df['WorkLoc'] = df['WorkLoc'].fillna('Office')\n"
   ]
  },
  {
   "cell_type": "markdown",
   "metadata": {},
   "source": [
    "After imputation there should ideally not be any empty rows in the WorkLoc column.\n"
   ]
  },
  {
   "cell_type": "markdown",
   "metadata": {},
   "source": [
    "Verify if imputing was successful.\n"
   ]
  },
  {
   "cell_type": "code",
   "execution_count": 59,
   "metadata": {},
   "outputs": [
    {
     "data": {
      "text/plain": [
       "0"
      ]
     },
     "execution_count": 59,
     "metadata": {},
     "output_type": "execute_result"
    }
   ],
   "source": [
    "df['WorkLoc'].isnull().sum()\n"
   ]
  },
  {
   "cell_type": "code",
   "execution_count": 60,
   "metadata": {
    "tags": []
   },
   "outputs": [
    {
     "data": {
      "text/plain": [
       "Office                                            6838\n",
       "Home                                              3589\n",
       "Other place, such as a coworking space or cafe     971\n",
       "Name: WorkLoc, dtype: int64"
      ]
     },
     "execution_count": 60,
     "metadata": {},
     "output_type": "execute_result"
    }
   ],
   "source": [
    "df['WorkLoc'].value_counts()"
   ]
  },
  {
   "cell_type": "markdown",
   "metadata": {},
   "source": [
    "## Normalizing data\n"
   ]
  },
  {
   "cell_type": "markdown",
   "metadata": {},
   "source": [
    "There are two columns in the dataset that talk about compensation.\n",
    "\n",
    "One is \"CompFreq\". This column shows how often a developer is paid (Yearly, Monthly, Weekly).\n",
    "\n",
    "The other is \"CompTotal\". This column talks about how much the developer is paid per Year, Month, or Week depending upon his/her \"CompFreq\". \n",
    "\n",
    "This makes it difficult to compare the total compensation of the developers.\n",
    "\n",
    "In this section you will create a new column called 'NormalizedAnnualCompensation' which contains the 'Annual Compensation' irrespective of the 'CompFreq'.\n",
    "\n",
    "Once this column is ready, it makes comparison of salaries easy.\n"
   ]
  },
  {
   "cell_type": "markdown",
   "metadata": {},
   "source": [
    "<hr>\n"
   ]
  },
  {
   "cell_type": "markdown",
   "metadata": {},
   "source": [
    "List out the various categories in the column 'CompFreq'\n"
   ]
  },
  {
   "cell_type": "code",
   "execution_count": 67,
   "metadata": {},
   "outputs": [
    {
     "data": {
      "text/plain": [
       "Yearly     6163\n",
       "Monthly    4846\n",
       "Weekly      337\n",
       "Name: CompFreq, dtype: int64"
      ]
     },
     "execution_count": 67,
     "metadata": {},
     "output_type": "execute_result"
    }
   ],
   "source": [
    "df['CompFreq'].value_counts()"
   ]
  },
  {
   "cell_type": "markdown",
   "metadata": {},
   "source": [
    "Create a new column named 'NormalizedAnnualCompensation'. Use the hint given below if needed.\n"
   ]
  },
  {
   "cell_type": "markdown",
   "metadata": {},
   "source": [
    "Double click to see the **Hint**.\n",
    "\n",
    "<!--\n",
    "\n",
    "Use the below logic to arrive at the values for the column NormalizedAnnualCompensation.\n",
    "\n",
    "If the CompFreq is Yearly then use the exising value in CompTotal\n",
    "If the CompFreq is Monthly then multiply the value in CompTotal with 12 (months in an year)\n",
    "If the CompFreq is Weekly then multiply the value in CompTotal with 52 (weeks in an year)\n",
    "\n",
    "-->\n"
   ]
  },
  {
   "cell_type": "code",
   "execution_count": 98,
   "metadata": {},
   "outputs": [
    {
     "data": {
      "text/html": [
       "<div>\n",
       "<style scoped>\n",
       "    .dataframe tbody tr th:only-of-type {\n",
       "        vertical-align: middle;\n",
       "    }\n",
       "\n",
       "    .dataframe tbody tr th {\n",
       "        vertical-align: top;\n",
       "    }\n",
       "\n",
       "    .dataframe thead th {\n",
       "        text-align: right;\n",
       "    }\n",
       "</style>\n",
       "<table border=\"1\" class=\"dataframe\">\n",
       "  <thead>\n",
       "    <tr style=\"text-align: right;\">\n",
       "      <th></th>\n",
       "      <th>CompFreq</th>\n",
       "      <th>CompTotal</th>\n",
       "      <th>NormalizedAnnualCompensation</th>\n",
       "    </tr>\n",
       "  </thead>\n",
       "  <tbody>\n",
       "    <tr>\n",
       "      <th>0</th>\n",
       "      <td>Yearly</td>\n",
       "      <td>61000.0</td>\n",
       "      <td>61000.0</td>\n",
       "    </tr>\n",
       "    <tr>\n",
       "      <th>1</th>\n",
       "      <td>Yearly</td>\n",
       "      <td>138000.0</td>\n",
       "      <td>138000.0</td>\n",
       "    </tr>\n",
       "    <tr>\n",
       "      <th>2</th>\n",
       "      <td>Yearly</td>\n",
       "      <td>90000.0</td>\n",
       "      <td>90000.0</td>\n",
       "    </tr>\n",
       "    <tr>\n",
       "      <th>3</th>\n",
       "      <td>Monthly</td>\n",
       "      <td>29000.0</td>\n",
       "      <td>348000.0</td>\n",
       "    </tr>\n",
       "    <tr>\n",
       "      <th>4</th>\n",
       "      <td>Yearly</td>\n",
       "      <td>90000.0</td>\n",
       "      <td>90000.0</td>\n",
       "    </tr>\n",
       "    <tr>\n",
       "      <th>5</th>\n",
       "      <td>Monthly</td>\n",
       "      <td>9500.0</td>\n",
       "      <td>114000.0</td>\n",
       "    </tr>\n",
       "    <tr>\n",
       "      <th>6</th>\n",
       "      <td>Monthly</td>\n",
       "      <td>3000.0</td>\n",
       "      <td>36000.0</td>\n",
       "    </tr>\n",
       "    <tr>\n",
       "      <th>7</th>\n",
       "      <td>Yearly</td>\n",
       "      <td>103000.0</td>\n",
       "      <td>103000.0</td>\n",
       "    </tr>\n",
       "    <tr>\n",
       "      <th>8</th>\n",
       "      <td>Yearly</td>\n",
       "      <td>69000.0</td>\n",
       "      <td>69000.0</td>\n",
       "    </tr>\n",
       "    <tr>\n",
       "      <th>9</th>\n",
       "      <td>Monthly</td>\n",
       "      <td>8000.0</td>\n",
       "      <td>96000.0</td>\n",
       "    </tr>\n",
       "  </tbody>\n",
       "</table>\n",
       "</div>"
      ],
      "text/plain": [
       "  CompFreq  CompTotal  NormalizedAnnualCompensation\n",
       "0   Yearly    61000.0                       61000.0\n",
       "1   Yearly   138000.0                      138000.0\n",
       "2   Yearly    90000.0                       90000.0\n",
       "3  Monthly    29000.0                      348000.0\n",
       "4   Yearly    90000.0                       90000.0\n",
       "5  Monthly     9500.0                      114000.0\n",
       "6  Monthly     3000.0                       36000.0\n",
       "7   Yearly   103000.0                      103000.0\n",
       "8   Yearly    69000.0                       69000.0\n",
       "9  Monthly     8000.0                       96000.0"
      ]
     },
     "execution_count": 98,
     "metadata": {},
     "output_type": "execute_result"
    }
   ],
   "source": [
    "def Normalize_Annual_Compensation(row):\n",
    "    if row['CompFreq']=='Yearly':\n",
    "        return row['CompTotal']\n",
    "    elif row['CompFreq']=='Monthly':\n",
    "        return row['CompTotal']*12\n",
    "    elif row['CompFreq']=='Weekly':\n",
    "        return row['CompTotal']*52\n",
    "    else:\n",
    "        return None\n",
    "df['NormalizedAnnualCompensation']=df.apply(Normalize_Annual_Compensation, axis=1)\n",
    "df[['CompFreq','CompTotal','NormalizedAnnualCompensation']].head(10)"
   ]
  },
  {
   "cell_type": "code",
   "execution_count": 89,
   "metadata": {
    "tags": []
   },
   "outputs": [
    {
     "name": "stdout",
     "output_type": "stream",
     "text": [
      "<class 'pandas.core.frame.DataFrame'>\n",
      "Int64Index: 11398 entries, 0 to 11551\n",
      "Data columns (total 85 columns):\n",
      " #   Column                  Non-Null Count  Dtype  \n",
      "---  ------                  --------------  -----  \n",
      " 0   Respondent              11398 non-null  int64  \n",
      " 1   MainBranch              11398 non-null  object \n",
      " 2   Hobbyist                11398 non-null  object \n",
      " 3   OpenSourcer             11398 non-null  object \n",
      " 4   OpenSource              11317 non-null  object \n",
      " 5   Employment              11398 non-null  object \n",
      " 6   Country                 11398 non-null  object \n",
      " 7   Student                 11347 non-null  object \n",
      " 8   EdLevel                 11286 non-null  object \n",
      " 9   UndergradMajor          10661 non-null  object \n",
      " 10  EduOther                11234 non-null  object \n",
      " 11  OrgSize                 11302 non-null  object \n",
      " 12  DevType                 11333 non-null  object \n",
      " 13  YearsCode               11389 non-null  object \n",
      " 14  Age1stCode              11385 non-null  object \n",
      " 15  YearsCodePro            11382 non-null  object \n",
      " 16  CareerSat               11398 non-null  object \n",
      " 17  JobSat                  11397 non-null  object \n",
      " 18  MgrIdiot                10905 non-null  object \n",
      " 19  MgrMoney                10901 non-null  object \n",
      " 20  MgrWant                 10905 non-null  object \n",
      " 21  JobSeek                 11398 non-null  object \n",
      " 22  LastHireDate            11398 non-null  object \n",
      " 23  LastInt                 10985 non-null  object \n",
      " 24  FizzBuzz                11361 non-null  object \n",
      " 25  JobFactors              11395 non-null  object \n",
      " 26  ResumeUpdate            11359 non-null  object \n",
      " 27  CurrencySymbol          11398 non-null  object \n",
      " 28  CurrencyDesc            11398 non-null  object \n",
      " 29  CompTotal               10589 non-null  float64\n",
      " 30  CompFreq                11192 non-null  object \n",
      " 31  ConvertedComp           10582 non-null  float64\n",
      " 32  WorkWeekHrs             11276 non-null  float64\n",
      " 33  WorkPlan                11277 non-null  object \n",
      " 34  WorkChallenge           11234 non-null  object \n",
      " 35  WorkRemote              11390 non-null  object \n",
      " 36  WorkLoc                 11366 non-null  object \n",
      " 37  ImpSyn                  11393 non-null  object \n",
      " 38  CodeRev                 11397 non-null  object \n",
      " 39  CodeRevHrs              8972 non-null   float64\n",
      " 40  UnitTests               11369 non-null  object \n",
      " 41  PurchaseHow             11202 non-null  object \n",
      " 42  PurchaseWhat            11360 non-null  object \n",
      " 43  LanguageWorkedWith      11387 non-null  object \n",
      " 44  LanguageDesireNextYear  11264 non-null  object \n",
      " 45  DatabaseWorkedWith      10945 non-null  object \n",
      " 46  DatabaseDesireNextYear  10356 non-null  object \n",
      " 47  PlatformWorkedWith      10987 non-null  object \n",
      " 48  PlatformDesireNextYear  10854 non-null  object \n",
      " 49  WebFrameWorkedWith      10005 non-null  object \n",
      " 50  WebFrameDesireNextYear  9781 non-null   object \n",
      " 51  MiscTechWorkedWith      9216 non-null   object \n",
      " 52  MiscTechDesireNextYear  9943 non-null   object \n",
      " 53  DevEnviron              11369 non-null  object \n",
      " 54  OpSys                   11364 non-null  object \n",
      " 55  Containers              11316 non-null  object \n",
      " 56  BlockchainOrg           9076 non-null   object \n",
      " 57  BlockchainIs            8788 non-null   object \n",
      " 58  BetterLife              11300 non-null  object \n",
      " 59  ITperson                11363 non-null  object \n",
      " 60  OffOn                   11360 non-null  object \n",
      " 61  SocialMedia             11105 non-null  object \n",
      " 62  Extraversion            11378 non-null  object \n",
      " 63  ScreenName              10891 non-null  object \n",
      " 64  SOVisit1st              11073 non-null  object \n",
      " 65  SOVisitFreq             11393 non-null  object \n",
      " 66  SOVisitTo               11397 non-null  object \n",
      " 67  SOFindAnswer            11395 non-null  object \n",
      " 68  SOTimeSaved             11348 non-null  object \n",
      " 69  SOHowMuchTime           9481 non-null   object \n",
      " 70  SOAccount               11397 non-null  object \n",
      " 71  SOPartFreq              10270 non-null  object \n",
      " 72  SOJobs                  11392 non-null  object \n",
      " 73  EntTeams                11393 non-null  object \n",
      " 74  SOComm                  11398 non-null  object \n",
      " 75  WelcomeChange           11313 non-null  object \n",
      " 76  SONewContent            9433 non-null   object \n",
      " 77  Age                     11111 non-null  float64\n",
      " 78  Gender                  11325 non-null  object \n",
      " 79  Trans                   11275 non-null  object \n",
      " 80  Sexuality               10856 non-null  object \n",
      " 81  Ethnicity               10723 non-null  object \n",
      " 82  Dependents              11258 non-null  object \n",
      " 83  SurveyLength            11379 non-null  object \n",
      " 84  SurveyEase              11384 non-null  object \n",
      "dtypes: float64(5), int64(1), object(79)\n",
      "memory usage: 7.5+ MB\n"
     ]
    }
   ],
   "source": [
    "df.info()"
   ]
  },
  {
   "cell_type": "code",
   "execution_count": 90,
   "metadata": {
    "tags": []
   },
   "outputs": [
    {
     "data": {
      "text/plain": [
       "112"
      ]
     },
     "execution_count": 90,
     "metadata": {},
     "output_type": "execute_result"
    }
   ],
   "source": [
    "df['EdLevel'].isnull().sum()"
   ]
  },
  {
   "cell_type": "code",
   "execution_count": 91,
   "metadata": {
    "tags": []
   },
   "outputs": [
    {
     "data": {
      "text/plain": [
       "0"
      ]
     },
     "execution_count": 91,
     "metadata": {},
     "output_type": "execute_result"
    }
   ],
   "source": [
    "df['Country'].isnull().sum()"
   ]
  },
  {
   "cell_type": "code",
   "execution_count": 92,
   "metadata": {
    "tags": []
   },
   "outputs": [
    {
     "data": {
      "text/plain": [
       "Employed full-time    10968\n",
       "Employed part-time      430\n",
       "Name: Employment, dtype: int64"
      ]
     },
     "execution_count": 92,
     "metadata": {},
     "output_type": "execute_result"
    }
   ],
   "source": [
    "df['Employment'].value_counts()"
   ]
  },
  {
   "cell_type": "code",
   "execution_count": 93,
   "metadata": {
    "tags": []
   },
   "outputs": [
    {
     "data": {
      "text/plain": [
       "Computer science, computer engineering, or software engineering          6953\n",
       "Information systems, information technology, or system administration     794\n",
       "Another engineering discipline (ex. civil, electrical, mechanical)        759\n",
       "Web development or web design                                             410\n",
       "A natural science (ex. biology, chemistry, physics)                       403\n",
       "Mathematics or statistics                                                 372\n",
       "A business discipline (ex. accounting, finance, marketing)                244\n",
       "A social science (ex. anthropology, psychology, political science)        210\n",
       "A humanities discipline (ex. literature, history, philosophy)             207\n",
       "Fine arts or performing arts (ex. graphic design, music, studio art)      161\n",
       "I never declared a major                                                  124\n",
       "A health science (ex. nursing, pharmacy, radiology)                        24\n",
       "Name: UndergradMajor, dtype: int64"
      ]
     },
     "execution_count": 93,
     "metadata": {},
     "output_type": "execute_result"
    }
   ],
   "source": [
    "df['UndergradMajor'].value_counts()"
   ]
  },
  {
   "cell_type": "code",
   "execution_count": 94,
   "metadata": {
    "tags": []
   },
   "outputs": [
    {
     "data": {
      "text/plain": [
       "Yearly     6073\n",
       "Monthly    4788\n",
       "Weekly      331\n",
       "Name: CompFreq, dtype: int64"
      ]
     },
     "execution_count": 94,
     "metadata": {},
     "output_type": "execute_result"
    }
   ],
   "source": [
    "df['CompFreq'].value_counts()"
   ]
  },
  {
   "cell_type": "code",
   "execution_count": 100,
   "metadata": {
    "tags": []
   },
   "outputs": [
    {
     "data": {
      "text/plain": [
       "100000.0"
      ]
     },
     "execution_count": 100,
     "metadata": {},
     "output_type": "execute_result"
    }
   ],
   "source": [
    "df['NormalizedAnnualCompensation'].median()"
   ]
  },
  {
   "cell_type": "markdown",
   "metadata": {},
   "source": [
    "## Authors\n"
   ]
  },
  {
   "cell_type": "markdown",
   "metadata": {},
   "source": [
    "Ramesh Sannareddy\n"
   ]
  },
  {
   "cell_type": "markdown",
   "metadata": {},
   "source": [
    "### Other Contributors\n"
   ]
  },
  {
   "cell_type": "markdown",
   "metadata": {},
   "source": [
    "Rav Ahuja\n"
   ]
  },
  {
   "cell_type": "markdown",
   "metadata": {},
   "source": [
    "## Change Log\n"
   ]
  },
  {
   "cell_type": "markdown",
   "metadata": {},
   "source": [
    "| Date (YYYY-MM-DD) | Version | Changed By        | Change Description                 |\n",
    "| ----------------- | ------- | ----------------- | ---------------------------------- |\n",
    "| 2020-10-17        | 0.1     | Ramesh Sannareddy | Created initial version of the lab |\n"
   ]
  },
  {
   "cell_type": "markdown",
   "metadata": {},
   "source": [
    " Copyright © 2020 IBM Corporation. This notebook and its source code are released under the terms of the [MIT License](https://cognitiveclass.ai/mit-license?utm_medium=Exinfluencer&utm_source=Exinfluencer&utm_content=000026UJ&utm_term=10006555&utm_id=NA-SkillsNetwork-Channel-SkillsNetworkCoursesIBMDA0321ENSkillsNetwork928-2022-01-01&cm_mmc=Email_Newsletter-_-Developer_Ed%2BTech-_-WW_WW-_-SkillsNetwork-Courses-IBM-DA0321EN-SkillsNetwork-21426264&cm_mmca1=000026UJ&cm_mmca2=10006555&cm_mmca3=M12345678&cvosrc=email.Newsletter.M12345678&cvo_campaign=000026UJ).\n"
   ]
  }
 ],
 "metadata": {
  "kernelspec": {
   "display_name": "Python",
   "language": "python",
   "name": "conda-env-python-py"
  },
  "language_info": {
   "codemirror_mode": {
    "name": "ipython",
    "version": 3
   },
   "file_extension": ".py",
   "mimetype": "text/x-python",
   "name": "python",
   "nbconvert_exporter": "python",
   "pygments_lexer": "ipython3",
   "version": "3.7.12"
  }
 },
 "nbformat": 4,
 "nbformat_minor": 4
}
